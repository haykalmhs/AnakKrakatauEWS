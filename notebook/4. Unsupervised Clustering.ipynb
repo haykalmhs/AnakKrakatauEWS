{
 "cells": [
  {
   "cell_type": "code",
   "execution_count": 23,
   "metadata": {},
   "outputs": [],
   "source": [
    "import pandas as pd\n",
    "import os\n",
    "from sklearn.neighbors import KNeighborsClassifier\n",
    "from sklearn.preprocessing import StandardScaler\n",
    "from tqdm.notebook import tqdm\n",
    "from sklearn.decomposition import PCA\n",
    "from sklearn.preprocessing import StandardScaler\n",
    "from sklearn.impute import SimpleImputer\n",
    "import numpy as np\n",
    "\n"
   ]
  },
  {
   "cell_type": "code",
   "execution_count": 3,
   "metadata": {},
   "outputs": [],
   "source": [
    "def load_features_from_directory(directory):\n",
    "    all_features = []\n",
    "    for file in tqdm(os.listdir(directory), desc=\"Loading feature files\"):\n",
    "        if file.endswith('_features.csv'):\n",
    "            file_path = os.path.join(directory, file)\n",
    "            features_df = pd.read_csv(file_path)\n",
    "            all_features.append(features_df)\n",
    "    return pd.concat(all_features, ignore_index=True)"
   ]
  },
  {
   "cell_type": "code",
   "execution_count": 4,
   "metadata": {},
   "outputs": [
    {
     "data": {
      "application/vnd.jupyter.widget-view+json": {
       "model_id": "cc47ba5857a04e2f89cf6a17daca776b",
       "version_major": 2,
       "version_minor": 0
      },
      "text/plain": [
       "Loading feature files:   0%|          | 0/221033 [00:00<?, ?it/s]"
      ]
     },
     "metadata": {},
     "output_type": "display_data"
    }
   ],
   "source": [
    "features_train_dir = '/run/media/viblab/Markov2/Haykal/AnakKrakatauEWS/data/features/train'\n",
    "features_test_dir = '/run/media/viblab/Markov2/Haykal/AnakKrakatauEWS/data/features/test'\n",
    "\n",
    "train_features = load_features_from_directory(features_train_dir)"
   ]
  },
  {
   "cell_type": "code",
   "execution_count": 5,
   "metadata": {},
   "outputs": [
    {
     "data": {
      "application/vnd.jupyter.widget-view+json": {
       "model_id": "845ee0e7b30542ac81b6b5bd9331f2da",
       "version_major": 2,
       "version_minor": 0
      },
      "text/plain": [
       "Loading feature files:   0%|          | 0/535 [00:00<?, ?it/s]"
      ]
     },
     "metadata": {},
     "output_type": "display_data"
    }
   ],
   "source": [
    "test_features = load_features_from_directory(features_test_dir)"
   ]
  },
  {
   "cell_type": "code",
   "execution_count": 22,
   "metadata": {},
   "outputs": [],
   "source": [
    "def impute_missing_values(X):\n",
    "    imputer = SimpleImputer(strategy='mean')  # Replace 'mean' with 'median' or 'most_frequent' if preferred\n",
    "    return imputer.fit_transform(X)"
   ]
  },
  {
   "cell_type": "code",
   "execution_count": 24,
   "metadata": {},
   "outputs": [],
   "source": [
    "def scale_with_progress(X, scaler):\n",
    "    # Create an array to store the scaled data\n",
    "    X_scaled = np.zeros_like(X)\n",
    "    \n",
    "    # Scale each feature (column) and update progress bar\n",
    "    with tqdm(total=X.shape[1], desc=\"Scaling Features\") as pbar:\n",
    "        for i in range(X.shape[1]):\n",
    "            X_scaled[:, i] = scaler.fit_transform(X[:, [i]].reshape(-1, 1)).ravel()\n",
    "            pbar.update(1)\n",
    "    return X_scaled"
   ]
  },
  {
   "cell_type": "code",
   "execution_count": 25,
   "metadata": {},
   "outputs": [],
   "source": [
    "def apply_pca_with_progress(X, n_components):\n",
    "    tqdm.write(\"Applying PCA...\")\n",
    "    pca = PCA(n_components=n_components)\n",
    "    X_pca = pca.fit_transform(X)\n",
    "    tqdm.write(\"PCA completed.\")\n",
    "    return X_pca"
   ]
  },
  {
   "cell_type": "code",
   "execution_count": 26,
   "metadata": {},
   "outputs": [],
   "source": [
    "X_train_imputed = impute_missing_values(train_features)\n",
    "X_test_imputed = impute_missing_values(test_features)"
   ]
  },
  {
   "cell_type": "code",
   "execution_count": 29,
   "metadata": {},
   "outputs": [
    {
     "data": {
      "application/vnd.jupyter.widget-view+json": {
       "model_id": "08dfa70e30d4426d9eff2859dde77f5c",
       "version_major": 2,
       "version_minor": 0
      },
      "text/plain": [
       "Scaling Features:   0%|          | 0/115 [00:00<?, ?it/s]"
      ]
     },
     "metadata": {},
     "output_type": "display_data"
    },
    {
     "data": {
      "application/vnd.jupyter.widget-view+json": {
       "model_id": "078e2cd67823468c9e654d14a44d58ca",
       "version_major": 2,
       "version_minor": 0
      },
      "text/plain": [
       "Scaling Features:   0%|          | 0/115 [00:00<?, ?it/s]"
      ]
     },
     "metadata": {},
     "output_type": "display_data"
    }
   ],
   "source": [
    "scaler = StandardScaler()\n",
    "X_train_scaled = scale_with_progress(X_train_imputed, scaler)\n",
    "X_test_scaled = scale_with_progress(X_test_imputed, scaler)"
   ]
  },
  {
   "cell_type": "code",
   "execution_count": 30,
   "metadata": {},
   "outputs": [
    {
     "name": "stdout",
     "output_type": "stream",
     "text": [
      "Applying PCA...\n",
      "PCA completed.\n"
     ]
    }
   ],
   "source": [
    "X_train_pca = apply_pca_with_progress(X_train_scaled, n_components=0.95)"
   ]
  },
  {
   "cell_type": "code",
   "execution_count": 31,
   "metadata": {},
   "outputs": [
    {
     "name": "stdout",
     "output_type": "stream",
     "text": [
      "Applying PCA...\n",
      "PCA completed.\n"
     ]
    }
   ],
   "source": [
    "X_test_pca = apply_pca_with_progress(X_test_scaled, n_components=0.95)"
   ]
  }
 ],
 "metadata": {
  "kernelspec": {
   "display_name": "Python 3",
   "language": "python",
   "name": "python3"
  },
  "language_info": {
   "codemirror_mode": {
    "name": "ipython",
    "version": 3
   },
   "file_extension": ".py",
   "mimetype": "text/x-python",
   "name": "python",
   "nbconvert_exporter": "python",
   "pygments_lexer": "ipython3",
   "version": "3.10.10"
  }
 },
 "nbformat": 4,
 "nbformat_minor": 2
}
